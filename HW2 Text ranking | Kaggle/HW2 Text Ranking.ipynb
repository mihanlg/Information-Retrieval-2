{
 "cells": [
  {
   "cell_type": "markdown",
   "metadata": {},
   "source": [
    "# Text relevance competition IR 2 TS Fall 2017"
   ]
  },
  {
   "cell_type": "markdown",
   "metadata": {},
   "source": [
    "### Ранжируем документы в порядке убывания их релевантности поисковому запросу\n",
    "\n",
    "После получения запроса от пользователя, поисковая система отбирает некоторое число страниц-кандидатов. Для того чтобы показать пользователю страницу результата поиска, страницы-кандидаты упорядочиваются по убыванию их релевантности и показываются только наиболее релевантные.\n",
    "\n",
    "Вам необходимо создать признаки, описывающие пару запрос-документ и выбрать 10 наиболее релевантных документов, отсортировать их по убыванию релевантности."
   ]
  },
  {
   "cell_type": "markdown",
   "metadata": {},
   "source": [
    "## Метрика качества ранжирования\n",
    "\n",
    "Для оценки качества ранжирования документов используется метрика NDCG@10:\n",
    "\n",
    "$$nDCG@k=\\frac{DCG_k}{IDCG_k}, \\quad DCG_k = \\sum \\limits _{i=1}^k \\frac{2^{rel_i} - 1}{log_2 (i+1)}$$\n",
    "\n",
    "Здесь $rel_i$ — ассессорская оценка релевантности документа, ранжированного на i-тую позицию. IDCG — значение DCG, если ранжировать документы по убыванию ассессорских оценок релевантности.\n",
    "\n",
    "Формат результата\n",
    "\n",
    "Для каждого запроса необходимо перечислить номера документов в порядке убывания их релевантности.\n",
    "\n",
    "Пример:"
   ]
  },
  {
   "cell_type": "raw",
   "metadata": {},
   "source": [
    "QueryId,DocumentId\n",
    "1,76\n",
    "1,184\n",
    "1,141\n",
    "1,166\n",
    "1,123\n",
    "2,3\n",
    "2,67\n",
    "2,17\n",
    "2,25\n",
    "2,84\n",
    "..."
   ]
  },
  {
   "cell_type": "markdown",
   "metadata": {},
   "source": [
    "## Файлы с данными\n",
    "\n",
    "- queries.numerate.txt - занумерованный список запросов\n",
    "- urls.numerate.txt - занумерованный список урлов\n",
    "- content.tar.gz - архив с документами\n",
    "- sample.submission.text.relevance.fall.2017.csv - пример решения\n",
    "\n",
    "## Формат данных\n",
    "\n",
    "- QueryId - идентификатор запроса\n",
    "- DocumentId - идентификатор документа"
   ]
  },
  {
   "cell_type": "code",
   "execution_count": null,
   "metadata": {
    "collapsed": true
   },
   "outputs": [],
   "source": []
  }
 ],
 "metadata": {
  "kernelspec": {
   "display_name": "Python 2",
   "language": "python",
   "name": "python2"
  },
  "language_info": {
   "codemirror_mode": {
    "name": "ipython",
    "version": 2
   },
   "file_extension": ".py",
   "mimetype": "text/x-python",
   "name": "python",
   "nbconvert_exporter": "python",
   "pygments_lexer": "ipython2",
   "version": "2.7.13"
  }
 },
 "nbformat": 4,
 "nbformat_minor": 2
}
